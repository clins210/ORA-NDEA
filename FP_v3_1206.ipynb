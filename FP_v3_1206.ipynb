{
 "cells": [
  {
   "cell_type": "code",
   "execution_count": 2,
   "metadata": {},
   "outputs": [],
   "source": [
    "from gurobipy import *\n",
    "import csv\n",
    "import random\n",
    "import multidict"
   ]
  },
  {
   "cell_type": "code",
   "execution_count": 16,
   "metadata": {},
   "outputs": [],
   "source": [
    "# def input_generator():\n",
    "#     # INPUT\n",
    "#     age = random.randint(1, 179)\n",
    "#     risk = random.randint(0, 50)\n",
    "#     size = random.randint(5000, 9999)\n",
    "#     # return INPUT\n",
    "#     return float(risk)\n",
    "#     # return [float(age), float(risk), float(size)]\n",
    "\n",
    "\n",
    "# def output_generator():\n",
    "#     # OUTPUT\n",
    "#     sale = random.randint(500000000, 1000000000)\n",
    "\n",
    "#     # return OUTPUT\n",
    "#     return float(sale)\n",
    "# input_generator(), output_generator()"
   ]
  },
  {
   "cell_type": "code",
   "execution_count": 17,
   "metadata": {},
   "outputs": [],
   "source": [
    "# ## Data generator\n",
    "\n",
    "# K = 3\n",
    "# X = {}\n",
    "# Y = {}\n",
    "# DMU = []\n",
    "\n",
    "# # number of DMU\n",
    "# N = 5\n",
    "\n",
    "# for j in range(N):\n",
    "#     DMU.append(j)\n",
    "#     X[j] = {}\n",
    "#     Y[j] = output_generator()\n",
    "#     for k in range(K):\n",
    "#         X[j][k] = input_generator()\n",
    "       \n",
    "\n",
    "# DMU, X, Y"
   ]
  },
  {
   "cell_type": "markdown",
   "metadata": {},
   "source": [
    "## Equation (1)"
   ]
  },
  {
   "cell_type": "code",
   "execution_count": 3,
   "metadata": {},
   "outputs": [],
   "source": [
    "X = {0: {0: 1, 1: 1, 2: 1},\n",
    "     1: {0: 2, 1: 2, 2: 2},\n",
    "     2: {0: 3, 1: 3, 2: 3},\n",
    "     3: {0: 4, 1: 4, 2: 4},\n",
    "     4: {0: 5, 1: 5, 2: 5}}\n",
    "\n",
    "Y = {0: 100,\n",
    "     1: 100,\n",
    "     2: 100,\n",
    "     3: 100,\n",
    "     4: 100}\n",
    "\n",
    "DMU = [0, 1, 2, 3, 4]"
   ]
  },
  {
   "cell_type": "code",
   "execution_count": 5,
   "metadata": {},
   "outputs": [
    {
     "name": "stdout",
     "output_type": "stream",
     "text": [
      "Gurobi Optimizer version 10.0.2 build v10.0.2rc0 (mac64[x86])\n",
      "\n",
      "CPU model: Intel(R) Core(TM) i5-1038NG7 CPU @ 2.00GHz\n",
      "Thread count: 4 physical cores, 8 logical processors, using up to 8 threads\n",
      "\n",
      "Optimize a model with 24 rows, 126 columns and 88 nonzeros\n",
      "Model fingerprint: 0xe4d08fde\n",
      "Model has 5 quadratic constraints\n",
      "Coefficient statistics:\n",
      "  Matrix range     [1e+00, 5e+00]\n",
      "  QMatrix range    [1e+00, 1e+00]\n",
      "  QLMatrix range   [1e+00, 1e+00]\n",
      "  Objective range  [3e-01, 3e-01]\n",
      "  Bounds range     [0e+00, 0e+00]\n",
      "  RHS range        [1e+00, 1e+02]\n",
      "Presolve removed 11 rows and 65 columns\n",
      "Presolve time: 0.02s\n",
      "\n",
      "Barrier solved model in 0 iterations and 0.02 seconds (0.00 work units)\n",
      "Model is infeasible or unbounded\n"
     ]
    }
   ],
   "source": [
    "try:\n",
    "    K = 3\n",
    "    H = K\n",
    "\n",
    "    # number of DMU\n",
    "    N = 5\n",
    "\n",
    "    # 暫定\n",
    "    e = 1\n",
    "\n",
    "    m_k = [1, 1, 1]\n",
    "    r_k = [1, 1, 1]\n",
    "\n",
    "    w = [1/3, 1/3, 1/3]\n",
    "\n",
    "    E = {}  # Efficiency\n",
    "\n",
    "    m = Model(\"model\")\n",
    "\n",
    "    # add variables\n",
    "    λ   = m.addVars(N, K, lb=0, vtype=GRB.CONTINUOUS, name=\"λ_\") # λ_jk\n",
    "    w_j = m.addVars(N, K, lb=0, vtype=GRB.CONTINUOUS, name=\"w_j_\")\n",
    "\n",
    "    s_neg = m.addVars(N, K, lb=0, vtype=GRB.CONTINUOUS, name=\"s_neg_\")\n",
    "    s_pos = m.addVars(N, K, lb=0, vtype=GRB.CONTINUOUS, name=\"s_pos_\")\n",
    "\n",
    "    x_o = m.addVars(K, vtype=GRB.CONTINUOUS, name=\"x_o_\")\n",
    "    y_o = m.addVars(K, vtype=GRB.CONTINUOUS, name=\"y_o_\")\n",
    "\n",
    "    y = m.addVars(N, K, vtype=GRB.CONTINUOUS, name=\"_\")\n",
    "\n",
    "    z = m.addVars(N, K, H, vtype=GRB.CONTINUOUS, name=\"_\")\n",
    "\n",
    "    m.update()    \n",
    "\n",
    "    #  set Objective\n",
    "    m.setObjective(sum(w[k] * (1-(1/m_k[k])*(sum(s_neg[i, k]/X[i][k] for i in range(m_k[k])))) for k in range(K)), GRB.MINIMIZE)\n",
    "\n",
    "    ### X[i][k] -> X[i][k] \n",
    "\n",
    "   # add Constrs\n",
    "    for k in range(K):\n",
    "        m.addConstr((x_o[k] == sum(X[j][k] * λ[j, k] + s_neg[j, k] for j in range(N))), \"C1\")\n",
    "        m.addConstr((y_o[k] == sum(y[j, k] * λ[j, k] - s_pos[j, k] for j in range(N))), \"C2\")\n",
    "\n",
    "        m.addConstr(sum(e * λ[j, k] for j in range(N)) == 1, \"C3\")\n",
    "        m.addConstr(sum(w_j[j, k] for j in range(N)) == 1, \"C4\")\n",
    "\n",
    "\n",
    "    # --- K stage: 0, 1, 2 --- #\n",
    "    # y_0 = z_1 = x_1\n",
    "    # y_1 = z_2 = x_2\n",
    "\n",
    "    m.addConstrs(y[j, 0] == z[j, 0, 1] for j in range(N))\n",
    "    m.addConstrs(y[j, 1] == z[j, 1, 2] for j in range(N))\n",
    "    m.addConstrs(y[j, 2] == Y[j] for j in range(N))\n",
    "\n",
    "\n",
    "    # (k, h) pairs\n",
    "    m.addConstr((sum(z[j ,0, 1] * λ[j, 0] for j in range(N)) == sum(z[j, 0, 1] * λ[j, 1] for j in range(N))), \"C5-1\")\n",
    "    m.addConstr((sum(z[j ,1, 2] * λ[j, 1] for j in range(N)) == sum(z[j, 1, 2] * λ[j, 2] for j in range(N))), \"C5-2\")\n",
    "\n",
    "    m.optimize()\n",
    "\n",
    "except GurobiError:\n",
    "    print('GurobiError reported')"
   ]
  },
  {
   "cell_type": "code",
   "execution_count": null,
   "metadata": {},
   "outputs": [],
   "source": []
  },
  {
   "cell_type": "markdown",
   "metadata": {},
   "source": [
    "## Equation (2)\n",
    "### variable returns-to-scale DEA model (BCC) "
   ]
  },
  {
   "cell_type": "code",
   "execution_count": 8,
   "metadata": {},
   "outputs": [],
   "source": [
    "I = 1\n",
    "O = 1\n",
    "\n",
    "epsilon = 0.001"
   ]
  },
  {
   "cell_type": "code",
   "execution_count": 10,
   "metadata": {},
   "outputs": [],
   "source": [
    "X = {0: {0: 1, 1: 1, 2: 1},\n",
    "     1: {0: 2, 1: 2, 2: 2},\n",
    "     2: {0: 3, 1: 3, 2: 3},\n",
    "     3: {0: 4, 1: 4, 2: 4},\n",
    "     4: {0: 5, 1: 5, 2: 5}}\n",
    "\n",
    "Y = {0: 100,\n",
    "     1: 100,\n",
    "     2: 100,\n",
    "     3: 100,\n",
    "     4: 100}\n",
    "\n",
    "DMU = [0, 1, 2, 3, 4]"
   ]
  },
  {
   "cell_type": "code",
   "execution_count": 9,
   "metadata": {},
   "outputs": [
    {
     "ename": "TypeError",
     "evalue": "unsupported operand type(s) for +: 'int' and 'tupledict'",
     "output_type": "error",
     "traceback": [
      "\u001b[0;31m---------------------------------------------------------------------------\u001b[0m",
      "\u001b[0;31mTypeError\u001b[0m                                 Traceback (most recent call last)",
      "\u001b[1;32m/Users/amy/Desktop/ORA_FP/FP_v3_1206.ipynb Cell 10\u001b[0m line \u001b[0;36m2\n\u001b[1;32m     <a href='vscode-notebook-cell:/Users/amy/Desktop/ORA_FP/FP_v3_1206.ipynb#X13sZmlsZQ%3D%3D?line=16'>17</a>\u001b[0m m\u001b[39m.\u001b[39mupdate()\n\u001b[1;32m     <a href='vscode-notebook-cell:/Users/amy/Desktop/ORA_FP/FP_v3_1206.ipynb#X13sZmlsZQ%3D%3D?line=18'>19</a>\u001b[0m \u001b[39m# Add objective function\u001b[39;00m\n\u001b[0;32m---> <a href='vscode-notebook-cell:/Users/amy/Desktop/ORA_FP/FP_v3_1206.ipynb#X13sZmlsZQ%3D%3D?line=19'>20</a>\u001b[0m m\u001b[39m.\u001b[39msetObjective(theta[r]\u001b[39m-\u001b[39mepsilon \u001b[39m*\u001b[39m (\u001b[39msum\u001b[39;49m(Si[i] \u001b[39mfor\u001b[39;49;00m i \u001b[39min\u001b[39;49;00m \u001b[39mrange\u001b[39;49m(I))), GRB\u001b[39m.\u001b[39mMINIMIZE)\n\u001b[1;32m     <a href='vscode-notebook-cell:/Users/amy/Desktop/ORA_FP/FP_v3_1206.ipynb#X13sZmlsZQ%3D%3D?line=21'>22</a>\u001b[0m \u001b[39m# Add constraints\u001b[39;00m\n\u001b[1;32m     <a href='vscode-notebook-cell:/Users/amy/Desktop/ORA_FP/FP_v3_1206.ipynb#X13sZmlsZQ%3D%3D?line=22'>23</a>\u001b[0m \n\u001b[1;32m     <a href='vscode-notebook-cell:/Users/amy/Desktop/ORA_FP/FP_v3_1206.ipynb#X13sZmlsZQ%3D%3D?line=23'>24</a>\u001b[0m \u001b[39m# for each input\u001b[39;00m\n\u001b[1;32m     <a href='vscode-notebook-cell:/Users/amy/Desktop/ORA_FP/FP_v3_1206.ipynb#X13sZmlsZQ%3D%3D?line=24'>25</a>\u001b[0m \u001b[39mfor\u001b[39;00m i \u001b[39min\u001b[39;00m \u001b[39mrange\u001b[39m(I):\n",
      "\u001b[0;31mTypeError\u001b[0m: unsupported operand type(s) for +: 'int' and 'tupledict'"
     ]
    }
   ],
   "source": [
    "\n",
    "for r in DMU:\n",
    "    try:\n",
    "        # The decision variables\n",
    "        theta, λ, Sr, Si = {}, {}, {}, {}\n",
    "\n",
    "        # Initialize LP model\n",
    "        m = Model(\"Dual_of_CRS_model\")\n",
    "        m.setParam('OutputFlag', False)  # Muting the optimize function\n",
    "\n",
    "        # Add decision variables\n",
    "        for k in DMU:\n",
    "            λ[k] = m.addVar(vtype=GRB.CONTINUOUS, name=\"λ_%s\" % k)\n",
    "            theta[r] = m.addVar(vtype=GRB.CONTINUOUS, lb=-1000, name=\"theta_%s\" % r)\n",
    "            Sr[r] = m.addVars(O, lb=0, vtype=GRB.CONTINUOUS, name=\"Sr_%s\" % r)\n",
    "            Si[r] = m.addVars(I, lb=0, vtype=GRB.CONTINUOUS, name=\"Si_%s\" % r)\n",
    "\n",
    "        m.update()\n",
    "\n",
    "        # Add objective function\n",
    "        m.setObjective(theta[r]-epsilon * (sum(Si[i] for i in range(I))), GRB.MINIMIZE)\n",
    "\n",
    "        # Add constraints\n",
    "\n",
    "        # for each input\n",
    "        for i in range(I):\n",
    "            m.addConstr(quicksum(λ[k]*X[k][i] for k in DMU) + Si[r][i] == theta[r]*X[r][i])\n",
    "        # for each output\n",
    "        for j in range(O):\n",
    "            m.addConstr(quicksum(λ[k]*Y[k][j] for k in DMU) - Sr[r][j]>= Y[r][j])\n",
    "\n",
    "        m.addConstr(sum(λ[k] for k in DMU) == 1)\n",
    "        \n",
    "        # Start optimize the formulation\n",
    "        m.optimize()\n",
    "\n",
    "        # Store the result\n",
    "        E[r] = \"The efficiency of DMU %s:%0.3f\" % (r, m.objVal)\n",
    "    \n",
    "    except GurobiError:\n",
    "        print('GurobiError reported')\n",
    "\n",
    "    # Print efficiency\n",
    "    print(E[r])"
   ]
  },
  {
   "cell_type": "code",
   "execution_count": null,
   "metadata": {},
   "outputs": [],
   "source": []
  }
 ],
 "metadata": {
  "kernelspec": {
   "display_name": "Gurobi",
   "language": "python",
   "name": "python3"
  },
  "language_info": {
   "codemirror_mode": {
    "name": "ipython",
    "version": 3
   },
   "file_extension": ".py",
   "mimetype": "text/x-python",
   "name": "python",
   "nbconvert_exporter": "python",
   "pygments_lexer": "ipython3",
   "version": "3.8.17"
  }
 },
 "nbformat": 4,
 "nbformat_minor": 2
}
